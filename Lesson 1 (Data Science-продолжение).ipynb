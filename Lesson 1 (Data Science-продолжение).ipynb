{
 "cells": [
  {
   "cell_type": "markdown",
   "id": "5966ed64",
   "metadata": {},
   "source": [
    "### Приведите по 2 примера, когда лучше максимизировать Precision, а когда Recall."
   ]
  },
  {
   "cell_type": "code",
   "execution_count": null,
   "id": "9b7fdbfd",
   "metadata": {},
   "outputs": [],
   "source": [
    "# При оценке на сейсмоактивность лучше максимизировать Precision, причислив место к сейсмоактивным."
   ]
  },
  {
   "cell_type": "code",
   "execution_count": 2,
   "id": "a4da3b62",
   "metadata": {},
   "outputs": [],
   "source": [
    "# Если кредитная политика банка направлена на большую выручку, имеет смысл максимизировать Recall."
   ]
  },
  {
   "cell_type": "code",
   "execution_count": 3,
   "id": "767dfec8",
   "metadata": {},
   "outputs": [],
   "source": [
    "# Если кредитная политика банка направлена на репутацию (макс. клиентов платежеспособны), имеет смысл максимизировать Precision."
   ]
  },
  {
   "cell_type": "code",
   "execution_count": 4,
   "id": "8f6d0194",
   "metadata": {},
   "outputs": [],
   "source": [
    "# Если при гангрене речь идет о жизни человека, то величину ампутируемой части имеет смысл определять исходя из максимизации Recall."
   ]
  },
  {
   "cell_type": "markdown",
   "id": "043277b0",
   "metadata": {},
   "source": [
    "### Почему мы используем F-меру, почему, например, нельзя просто взять среднее от Precision и Recall?"
   ]
  },
  {
   "cell_type": "code",
   "execution_count": 5,
   "id": "6ebfc515",
   "metadata": {},
   "outputs": [],
   "source": [
    "# Первая причина в том, что *F-мера* позволяет оценить в комплексе как Precision, так и Recal4"
   ]
  },
  {
   "cell_type": "code",
   "execution_count": null,
   "id": "39deed60",
   "metadata": {},
   "outputs": [],
   "source": [
    "# Вторая причина в том, что *F-мера* позволяет увеличивать/уменьшать влияние Precision и Recall"
   ]
  }
 ],
 "metadata": {
  "kernelspec": {
   "display_name": "Python 3",
   "language": "python",
   "name": "python3"
  },
  "language_info": {
   "codemirror_mode": {
    "name": "ipython",
    "version": 3
   },
   "file_extension": ".py",
   "mimetype": "text/x-python",
   "name": "python",
   "nbconvert_exporter": "python",
   "pygments_lexer": "ipython3",
   "version": "3.8.8"
  }
 },
 "nbformat": 4,
 "nbformat_minor": 5
}
